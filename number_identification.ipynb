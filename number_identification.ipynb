{
 "cells": [
  {
   "cell_type": "code",
   "execution_count": 1,
   "id": "556bd492-57f7-44cb-8ed2-f98041e84182",
   "metadata": {},
   "outputs": [],
   "source": [
    "import tensorflow as tf\n",
    "from tensorflow.keras.preprocessing.image import ImageDataGenerator"
   ]
  },
  {
   "cell_type": "code",
   "execution_count": 10,
   "id": "3ec97292-fa9a-4387-97e6-7d66a5ff5f52",
   "metadata": {},
   "outputs": [
    {
     "name": "stdout",
     "output_type": "stream",
     "text": [
      "Found 42000 images belonging to 10 classes.\n"
     ]
    }
   ],
   "source": [
    "train_datagen=ImageDataGenerator(rescale=1/255,\n",
    "                                 shear_range=0.2,\n",
    "                                 zoom_range=0.3,\n",
    "                                 horizontal_flip=True)\n",
    "training_set=train_datagen.flow_from_directory('train_digit',\n",
    "                                                    target_size=(64,64),\n",
    "                                                    color_mode='grayscale',\n",
    "                                                    batch_size=32,\n",
    "                                                    class_mode='sparse')"
   ]
  },
  {
   "cell_type": "code",
   "execution_count": 12,
   "id": "7b619570-8d07-473b-a234-b97a0f2f57ec",
   "metadata": {},
   "outputs": [
    {
     "name": "stdout",
     "output_type": "stream",
     "text": [
      "Found 600 images belonging to 10 classes.\n"
     ]
    }
   ],
   "source": [
    "test_datagen=ImageDataGenerator(rescale=1/255)\n",
    "test_set=test_datagen.flow_from_directory('test_digit',\n",
    "                                            target_size=(64,64),\n",
    "                                            color_mode='grayscale',\n",
    "                                            batch_size=32,\n",
    "                                            class_mode='sparse')"
   ]
  },
  {
   "cell_type": "code",
   "execution_count": 13,
   "id": "723f03f5-858a-4606-9821-346998f14ec8",
   "metadata": {},
   "outputs": [],
   "source": [
    "cnn=tf.keras.models.Sequential()"
   ]
  },
  {
   "cell_type": "code",
   "execution_count": 14,
   "id": "eeda53b6-8260-4af5-8611-173eff82813c",
   "metadata": {},
   "outputs": [],
   "source": [
    "cnn.add(tf.keras.layers.Conv2D(filters=32,kernel_size=3,activation='relu',input_shape=[64,64,1]))\n",
    "cnn.add(tf.keras.layers.MaxPool2D(pool_size=2,strides=2))"
   ]
  },
  {
   "cell_type": "code",
   "execution_count": 15,
   "id": "73467308-b934-46ad-9ce5-4feb62013dd3",
   "metadata": {},
   "outputs": [],
   "source": [
    "cnn.add(tf.keras.layers.Conv2D(filters=32,kernel_size=3,activation='relu'))\n",
    "cnn.add(tf.keras.layers.MaxPool2D(pool_size=2,strides=2))\n",
    "cnn.add(tf.keras.layers.Flatten())\n",
    "cnn.add(tf.keras.layers.Dense(units=128,activation='relu'))"
   ]
  },
  {
   "cell_type": "code",
   "execution_count": 16,
   "id": "34ef29cc-5562-4014-a983-c05024589876",
   "metadata": {},
   "outputs": [],
   "source": [
    "cnn.add(tf.keras.layers.Dense(units=10,activation='softmax'))"
   ]
  },
  {
   "cell_type": "code",
   "execution_count": 20,
   "id": "f7c43840-d11e-43ba-a60f-290c23aa34eb",
   "metadata": {},
   "outputs": [],
   "source": [
    "cnn.compile(optimizer='adam',loss='sparse_categorical_crossentropy',metrics=['accuracy'])"
   ]
  },
  {
   "cell_type": "code",
   "execution_count": 21,
   "id": "7e7539f4-20c8-4a4c-b280-e2e404d2db24",
   "metadata": {},
   "outputs": [
    {
     "name": "stdout",
     "output_type": "stream",
     "text": [
      "Epoch 1/5\n",
      "\u001b[1m1313/1313\u001b[0m \u001b[32m━━━━━━━━━━━━━━━━━━━━\u001b[0m\u001b[37m\u001b[0m \u001b[1m547s\u001b[0m 415ms/step - accuracy: 0.8134 - loss: 0.5738 - val_accuracy: 0.9600 - val_loss: 0.1090\n",
      "Epoch 2/5\n",
      "\u001b[1m1313/1313\u001b[0m \u001b[32m━━━━━━━━━━━━━━━━━━━━\u001b[0m\u001b[37m\u001b[0m \u001b[1m108s\u001b[0m 82ms/step - accuracy: 0.9553 - loss: 0.1457 - val_accuracy: 0.9733 - val_loss: 0.0786\n",
      "Epoch 3/5\n",
      "\u001b[1m1313/1313\u001b[0m \u001b[32m━━━━━━━━━━━━━━━━━━━━\u001b[0m\u001b[37m\u001b[0m \u001b[1m101s\u001b[0m 77ms/step - accuracy: 0.9684 - loss: 0.1033 - val_accuracy: 0.9833 - val_loss: 0.0696\n",
      "Epoch 4/5\n",
      "\u001b[1m1313/1313\u001b[0m \u001b[32m━━━━━━━━━━━━━━━━━━━━\u001b[0m\u001b[37m\u001b[0m \u001b[1m97s\u001b[0m 74ms/step - accuracy: 0.9741 - loss: 0.0857 - val_accuracy: 0.9900 - val_loss: 0.0452\n",
      "Epoch 5/5\n",
      "\u001b[1m1313/1313\u001b[0m \u001b[32m━━━━━━━━━━━━━━━━━━━━\u001b[0m\u001b[37m\u001b[0m \u001b[1m91s\u001b[0m 69ms/step - accuracy: 0.9765 - loss: 0.0758 - val_accuracy: 0.9883 - val_loss: 0.0314\n"
     ]
    },
    {
     "data": {
      "text/plain": [
       "<keras.src.callbacks.history.History at 0x1d656fd1fa0>"
      ]
     },
     "execution_count": 21,
     "metadata": {},
     "output_type": "execute_result"
    }
   ],
   "source": [
    "cnn.fit(x=training_set, validation_data=test_set,epochs=5)"
   ]
  },
  {
   "cell_type": "code",
   "execution_count": 28,
   "id": "839690b9-bbd8-44d4-89ec-ede6c86928f8",
   "metadata": {},
   "outputs": [
    {
     "name": "stdout",
     "output_type": "stream",
     "text": [
      "\u001b[1m1/1\u001b[0m \u001b[32m━━━━━━━━━━━━━━━━━━━━\u001b[0m\u001b[37m\u001b[0m \u001b[1m0s\u001b[0m 232ms/step\n"
     ]
    }
   ],
   "source": [
    "import numpy as np\n",
    "from keras.preprocessing import image\n",
    "from keras.utils import load_img\n",
    "from keras.utils import img_to_array\n",
    "test_image=load_img('prediction_digit/9.jpg',target_size=(64,64),color_mode='grayscale')\n",
    "test_image=img_to_array(test_image)\n",
    "test_image=np.expand_dims(test_image,axis=0)\n",
    "result=cnn.predict(test_image)\n",
    "training_set.class_indices\n",
    "if result[0][0]==1:\n",
    "    prediction='Zero'\n",
    "elif result[0][1]==1:\n",
    "    prediction='One'\n",
    "elif result[0][2]==1:\n",
    "    prediction='Two'\n",
    "elif result[0][3]==1:\n",
    "    prediction='Three'\n",
    "elif result[0][4]==1:\n",
    "    prediction='Four'\n",
    "elif result[0][5]==1:\n",
    "    prediction='Five'\n",
    "elif result[0][6]==1:\n",
    "    prediction='six'\n",
    "elif result[0][7]==1:\n",
    "    prediction='seven'\n",
    "elif result[0][8]==1:\n",
    "    prediction='eight'\n",
    "elif result[0][9]==1:\n",
    "    prediction='nine'"
   ]
  },
  {
   "cell_type": "code",
   "execution_count": 29,
   "id": "3b0faa22-a143-4e54-aa64-23393f55af67",
   "metadata": {},
   "outputs": [
    {
     "data": {
      "text/plain": [
       "array([[0., 0., 0., 0., 0., 0., 0., 0., 0., 1.]], dtype=float32)"
      ]
     },
     "execution_count": 29,
     "metadata": {},
     "output_type": "execute_result"
    }
   ],
   "source": [
    "result"
   ]
  },
  {
   "cell_type": "code",
   "execution_count": null,
   "id": "d28a9fe5-82f4-45a8-a908-c9c5149c6700",
   "metadata": {},
   "outputs": [],
   "source": []
  }
 ],
 "metadata": {
  "kernelspec": {
   "display_name": "Python 3 (ipykernel)",
   "language": "python",
   "name": "python3"
  },
  "language_info": {
   "codemirror_mode": {
    "name": "ipython",
    "version": 3
   },
   "file_extension": ".py",
   "mimetype": "text/x-python",
   "name": "python",
   "nbconvert_exporter": "python",
   "pygments_lexer": "ipython3",
   "version": "3.12.4"
  }
 },
 "nbformat": 4,
 "nbformat_minor": 5
}
